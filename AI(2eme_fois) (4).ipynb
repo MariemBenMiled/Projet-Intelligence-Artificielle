{
  "nbformat": 4,
  "nbformat_minor": 0,
  "metadata": {
    "colab": {
      "provenance": []
    },
    "kernelspec": {
      "name": "python3",
      "display_name": "Python 3"
    },
    "language_info": {
      "name": "python"
    }
  },
  "cells": [
    {
      "cell_type": "code",
      "execution_count": null,
      "metadata": {
        "id": "tXb1yldeXzv8"
      },
      "outputs": [],
      "source": [
        "import pandas as pd\n",
        "import numpy as np\n",
        "from sklearn.model_selection import train_test_split, GridSearchCV\n",
        "from sklearn.preprocessing import StandardScaler, LabelEncoder, OneHotEncoder\n",
        "from sklearn.impute import SimpleImputer\n",
        "from sklearn.linear_model import LinearRegression\n",
        "from sklearn.ensemble import RandomForestRegressor\n",
        "from sklearn.svm import SVR\n",
        "from sklearn.preprocessing import StandardScaler\n",
        "from sklearn.metrics import mean_squared_error, r2_score\n",
        "import matplotlib.pyplot as plt\n",
        "import seaborn as sns\n",
        "\n"
      ]
    },
    {
      "cell_type": "code",
      "source": [
        "# Charger le dataset\n",
        "data_path = '/content/train.csv'  # Remplacer par le chemin vers votre fichier\n",
        "df = pd.read_csv(data_path)\n",
        "\n",
        "\n"
      ],
      "metadata": {
        "id": "fX3mG4qhb2u3"
      },
      "execution_count": null,
      "outputs": []
    },
    {
      "cell_type": "markdown",
      "source": [
        "Objectif : Charger le dataset à partir du fichier CSV spécifié."
      ],
      "metadata": {
        "id": "mOltG9z_MrJp"
      }
    },
    {
      "cell_type": "code",
      "source": [
        "# 1. Description du dataset\n",
        "print(\"\\nAperçu du dataset :\")\n",
        "print(df.head())\n",
        "\n"
      ],
      "metadata": {
        "colab": {
          "base_uri": "https://localhost:8080/"
        },
        "id": "I5gixqY_b9Ki",
        "outputId": "a12b51d2-46fc-483a-e346-70e6b339b258"
      },
      "execution_count": null,
      "outputs": [
        {
          "output_type": "stream",
          "name": "stdout",
          "text": [
            "\n",
            "Aperçu du dataset :\n",
            "   Id  MSSubClass MSZoning  LotFrontage  LotArea Street Alley LotShape  \\\n",
            "0   1          60       RL         65.0     8450   Pave   NaN      Reg   \n",
            "1   2          20       RL         80.0     9600   Pave   NaN      Reg   \n",
            "2   3          60       RL         68.0    11250   Pave   NaN      IR1   \n",
            "3   4          70       RL         60.0     9550   Pave   NaN      IR1   \n",
            "4   5          60       RL         84.0    14260   Pave   NaN      IR1   \n",
            "\n",
            "  LandContour Utilities  ... PoolArea PoolQC Fence MiscFeature MiscVal MoSold  \\\n",
            "0         Lvl    AllPub  ...        0    NaN   NaN         NaN       0      2   \n",
            "1         Lvl    AllPub  ...        0    NaN   NaN         NaN       0      5   \n",
            "2         Lvl    AllPub  ...        0    NaN   NaN         NaN       0      9   \n",
            "3         Lvl    AllPub  ...        0    NaN   NaN         NaN       0      2   \n",
            "4         Lvl    AllPub  ...        0    NaN   NaN         NaN       0     12   \n",
            "\n",
            "  YrSold  SaleType  SaleCondition  SalePrice  \n",
            "0   2008        WD         Normal     208500  \n",
            "1   2007        WD         Normal     181500  \n",
            "2   2008        WD         Normal     223500  \n",
            "3   2006        WD        Abnorml     140000  \n",
            "4   2008        WD         Normal     250000  \n",
            "\n",
            "[5 rows x 81 columns]\n"
          ]
        }
      ]
    },
    {
      "cell_type": "code",
      "source": [
        "print(\"\\nInformations générales :\")\n",
        "print(df.info())\n"
      ],
      "metadata": {
        "colab": {
          "base_uri": "https://localhost:8080/"
        },
        "id": "jfSGKp44cFnE",
        "outputId": "ef97e418-7efe-4c35-e3b4-ff866b4badc4"
      },
      "execution_count": null,
      "outputs": [
        {
          "output_type": "stream",
          "name": "stdout",
          "text": [
            "\n",
            "Informations générales :\n",
            "<class 'pandas.core.frame.DataFrame'>\n",
            "RangeIndex: 1460 entries, 0 to 1459\n",
            "Data columns (total 81 columns):\n",
            " #   Column         Non-Null Count  Dtype  \n",
            "---  ------         --------------  -----  \n",
            " 0   Id             1460 non-null   int64  \n",
            " 1   MSSubClass     1460 non-null   int64  \n",
            " 2   MSZoning       1460 non-null   object \n",
            " 3   LotFrontage    1201 non-null   float64\n",
            " 4   LotArea        1460 non-null   int64  \n",
            " 5   Street         1460 non-null   object \n",
            " 6   Alley          91 non-null     object \n",
            " 7   LotShape       1460 non-null   object \n",
            " 8   LandContour    1460 non-null   object \n",
            " 9   Utilities      1460 non-null   object \n",
            " 10  LotConfig      1460 non-null   object \n",
            " 11  LandSlope      1460 non-null   object \n",
            " 12  Neighborhood   1460 non-null   object \n",
            " 13  Condition1     1460 non-null   object \n",
            " 14  Condition2     1460 non-null   object \n",
            " 15  BldgType       1460 non-null   object \n",
            " 16  HouseStyle     1460 non-null   object \n",
            " 17  OverallQual    1460 non-null   int64  \n",
            " 18  OverallCond    1460 non-null   int64  \n",
            " 19  YearBuilt      1460 non-null   int64  \n",
            " 20  YearRemodAdd   1460 non-null   int64  \n",
            " 21  RoofStyle      1460 non-null   object \n",
            " 22  RoofMatl       1460 non-null   object \n",
            " 23  Exterior1st    1460 non-null   object \n",
            " 24  Exterior2nd    1460 non-null   object \n",
            " 25  MasVnrType     588 non-null    object \n",
            " 26  MasVnrArea     1452 non-null   float64\n",
            " 27  ExterQual      1460 non-null   object \n",
            " 28  ExterCond      1460 non-null   object \n",
            " 29  Foundation     1460 non-null   object \n",
            " 30  BsmtQual       1423 non-null   object \n",
            " 31  BsmtCond       1423 non-null   object \n",
            " 32  BsmtExposure   1422 non-null   object \n",
            " 33  BsmtFinType1   1423 non-null   object \n",
            " 34  BsmtFinSF1     1460 non-null   int64  \n",
            " 35  BsmtFinType2   1422 non-null   object \n",
            " 36  BsmtFinSF2     1460 non-null   int64  \n",
            " 37  BsmtUnfSF      1460 non-null   int64  \n",
            " 38  TotalBsmtSF    1460 non-null   int64  \n",
            " 39  Heating        1460 non-null   object \n",
            " 40  HeatingQC      1460 non-null   object \n",
            " 41  CentralAir     1460 non-null   object \n",
            " 42  Electrical     1459 non-null   object \n",
            " 43  1stFlrSF       1460 non-null   int64  \n",
            " 44  2ndFlrSF       1460 non-null   int64  \n",
            " 45  LowQualFinSF   1460 non-null   int64  \n",
            " 46  GrLivArea      1460 non-null   int64  \n",
            " 47  BsmtFullBath   1460 non-null   int64  \n",
            " 48  BsmtHalfBath   1460 non-null   int64  \n",
            " 49  FullBath       1460 non-null   int64  \n",
            " 50  HalfBath       1460 non-null   int64  \n",
            " 51  BedroomAbvGr   1460 non-null   int64  \n",
            " 52  KitchenAbvGr   1460 non-null   int64  \n",
            " 53  KitchenQual    1460 non-null   object \n",
            " 54  TotRmsAbvGrd   1460 non-null   int64  \n",
            " 55  Functional     1460 non-null   object \n",
            " 56  Fireplaces     1460 non-null   int64  \n",
            " 57  FireplaceQu    770 non-null    object \n",
            " 58  GarageType     1379 non-null   object \n",
            " 59  GarageYrBlt    1379 non-null   float64\n",
            " 60  GarageFinish   1379 non-null   object \n",
            " 61  GarageCars     1460 non-null   int64  \n",
            " 62  GarageArea     1460 non-null   int64  \n",
            " 63  GarageQual     1379 non-null   object \n",
            " 64  GarageCond     1379 non-null   object \n",
            " 65  PavedDrive     1460 non-null   object \n",
            " 66  WoodDeckSF     1460 non-null   int64  \n",
            " 67  OpenPorchSF    1460 non-null   int64  \n",
            " 68  EnclosedPorch  1460 non-null   int64  \n",
            " 69  3SsnPorch      1460 non-null   int64  \n",
            " 70  ScreenPorch    1460 non-null   int64  \n",
            " 71  PoolArea       1460 non-null   int64  \n",
            " 72  PoolQC         7 non-null      object \n",
            " 73  Fence          281 non-null    object \n",
            " 74  MiscFeature    54 non-null     object \n",
            " 75  MiscVal        1460 non-null   int64  \n",
            " 76  MoSold         1460 non-null   int64  \n",
            " 77  YrSold         1460 non-null   int64  \n",
            " 78  SaleType       1460 non-null   object \n",
            " 79  SaleCondition  1460 non-null   object \n",
            " 80  SalePrice      1460 non-null   int64  \n",
            "dtypes: float64(3), int64(35), object(43)\n",
            "memory usage: 924.0+ KB\n",
            "None\n"
          ]
        }
      ]
    },
    {
      "cell_type": "code",
      "source": [
        "print(\"\\nStatistiques descriptives :\")\n",
        "print(df.describe())\n",
        "\n"
      ],
      "metadata": {
        "colab": {
          "base_uri": "https://localhost:8080/"
        },
        "id": "Ks6CKUbRcNmr",
        "outputId": "6c0e78d6-3276-48d4-f4af-ceb8b66bb56a"
      },
      "execution_count": null,
      "outputs": [
        {
          "output_type": "stream",
          "name": "stdout",
          "text": [
            "\n",
            "Statistiques descriptives :\n",
            "                Id   MSSubClass  LotFrontage        LotArea  OverallQual  \\\n",
            "count  1460.000000  1460.000000  1201.000000    1460.000000  1460.000000   \n",
            "mean    730.500000    56.897260    70.049958   10516.828082     6.099315   \n",
            "std     421.610009    42.300571    24.284752    9981.264932     1.382997   \n",
            "min       1.000000    20.000000    21.000000    1300.000000     1.000000   \n",
            "25%     365.750000    20.000000    59.000000    7553.500000     5.000000   \n",
            "50%     730.500000    50.000000    69.000000    9478.500000     6.000000   \n",
            "75%    1095.250000    70.000000    80.000000   11601.500000     7.000000   \n",
            "max    1460.000000   190.000000   313.000000  215245.000000    10.000000   \n",
            "\n",
            "       OverallCond    YearBuilt  YearRemodAdd   MasVnrArea   BsmtFinSF1  ...  \\\n",
            "count  1460.000000  1460.000000   1460.000000  1452.000000  1460.000000  ...   \n",
            "mean      5.575342  1971.267808   1984.865753   103.685262   443.639726  ...   \n",
            "std       1.112799    30.202904     20.645407   181.066207   456.098091  ...   \n",
            "min       1.000000  1872.000000   1950.000000     0.000000     0.000000  ...   \n",
            "25%       5.000000  1954.000000   1967.000000     0.000000     0.000000  ...   \n",
            "50%       5.000000  1973.000000   1994.000000     0.000000   383.500000  ...   \n",
            "75%       6.000000  2000.000000   2004.000000   166.000000   712.250000  ...   \n",
            "max       9.000000  2010.000000   2010.000000  1600.000000  5644.000000  ...   \n",
            "\n",
            "        WoodDeckSF  OpenPorchSF  EnclosedPorch    3SsnPorch  ScreenPorch  \\\n",
            "count  1460.000000  1460.000000    1460.000000  1460.000000  1460.000000   \n",
            "mean     94.244521    46.660274      21.954110     3.409589    15.060959   \n",
            "std     125.338794    66.256028      61.119149    29.317331    55.757415   \n",
            "min       0.000000     0.000000       0.000000     0.000000     0.000000   \n",
            "25%       0.000000     0.000000       0.000000     0.000000     0.000000   \n",
            "50%       0.000000    25.000000       0.000000     0.000000     0.000000   \n",
            "75%     168.000000    68.000000       0.000000     0.000000     0.000000   \n",
            "max     857.000000   547.000000     552.000000   508.000000   480.000000   \n",
            "\n",
            "          PoolArea       MiscVal       MoSold       YrSold      SalePrice  \n",
            "count  1460.000000   1460.000000  1460.000000  1460.000000    1460.000000  \n",
            "mean      2.758904     43.489041     6.321918  2007.815753  180921.195890  \n",
            "std      40.177307    496.123024     2.703626     1.328095   79442.502883  \n",
            "min       0.000000      0.000000     1.000000  2006.000000   34900.000000  \n",
            "25%       0.000000      0.000000     5.000000  2007.000000  129975.000000  \n",
            "50%       0.000000      0.000000     6.000000  2008.000000  163000.000000  \n",
            "75%       0.000000      0.000000     8.000000  2009.000000  214000.000000  \n",
            "max     738.000000  15500.000000    12.000000  2010.000000  755000.000000  \n",
            "\n",
            "[8 rows x 38 columns]\n"
          ]
        }
      ]
    },
    {
      "cell_type": "code",
      "source": [
        "print(df.isnull().sum())\n",
        "print(df.isnull())"
      ],
      "metadata": {
        "colab": {
          "base_uri": "https://localhost:8080/"
        },
        "id": "8LH0S4YNcVul",
        "outputId": "748a1fa0-65db-4d0d-a5df-682c5b42596c"
      },
      "execution_count": null,
      "outputs": [
        {
          "output_type": "stream",
          "name": "stdout",
          "text": [
            "Id                 0\n",
            "MSSubClass         0\n",
            "MSZoning           0\n",
            "LotFrontage      259\n",
            "LotArea            0\n",
            "                ... \n",
            "MoSold             0\n",
            "YrSold             0\n",
            "SaleType           0\n",
            "SaleCondition      0\n",
            "SalePrice          0\n",
            "Length: 81, dtype: int64\n",
            "         Id  MSSubClass  MSZoning  LotFrontage  LotArea  Street  Alley  \\\n",
            "0     False       False     False        False    False   False   True   \n",
            "1     False       False     False        False    False   False   True   \n",
            "2     False       False     False        False    False   False   True   \n",
            "3     False       False     False        False    False   False   True   \n",
            "4     False       False     False        False    False   False   True   \n",
            "...     ...         ...       ...          ...      ...     ...    ...   \n",
            "1455  False       False     False        False    False   False   True   \n",
            "1456  False       False     False        False    False   False   True   \n",
            "1457  False       False     False        False    False   False   True   \n",
            "1458  False       False     False        False    False   False   True   \n",
            "1459  False       False     False        False    False   False   True   \n",
            "\n",
            "      LotShape  LandContour  Utilities  ...  PoolArea  PoolQC  Fence  \\\n",
            "0        False        False      False  ...     False    True   True   \n",
            "1        False        False      False  ...     False    True   True   \n",
            "2        False        False      False  ...     False    True   True   \n",
            "3        False        False      False  ...     False    True   True   \n",
            "4        False        False      False  ...     False    True   True   \n",
            "...        ...          ...        ...  ...       ...     ...    ...   \n",
            "1455     False        False      False  ...     False    True   True   \n",
            "1456     False        False      False  ...     False    True  False   \n",
            "1457     False        False      False  ...     False    True  False   \n",
            "1458     False        False      False  ...     False    True   True   \n",
            "1459     False        False      False  ...     False    True   True   \n",
            "\n",
            "      MiscFeature  MiscVal  MoSold  YrSold  SaleType  SaleCondition  SalePrice  \n",
            "0            True    False   False   False     False          False      False  \n",
            "1            True    False   False   False     False          False      False  \n",
            "2            True    False   False   False     False          False      False  \n",
            "3            True    False   False   False     False          False      False  \n",
            "4            True    False   False   False     False          False      False  \n",
            "...           ...      ...     ...     ...       ...            ...        ...  \n",
            "1455         True    False   False   False     False          False      False  \n",
            "1456         True    False   False   False     False          False      False  \n",
            "1457        False    False   False   False     False          False      False  \n",
            "1458         True    False   False   False     False          False      False  \n",
            "1459         True    False   False   False     False          False      False  \n",
            "\n",
            "[1460 rows x 81 columns]\n"
          ]
        }
      ]
    },
    {
      "cell_type": "code",
      "source": [
        "# Taille du dataset\n",
        "print(\"\\nTaille du dataset :\", df.shape)\n",
        "\n"
      ],
      "metadata": {
        "colab": {
          "base_uri": "https://localhost:8080/"
        },
        "id": "-wY-oK2QcZTd",
        "outputId": "bc49c2dd-8daa-41bf-cd36-518060a8e526"
      },
      "execution_count": null,
      "outputs": [
        {
          "output_type": "stream",
          "name": "stdout",
          "text": [
            "\n",
            "Taille du dataset : (1460, 81)\n"
          ]
        }
      ]
    },
    {
      "cell_type": "code",
      "source": [
        "# Identifier les types de variables\n",
        "print(\"\\nTypes des colonnes :\")\n",
        "print(df.dtypes)\n"
      ],
      "metadata": {
        "colab": {
          "base_uri": "https://localhost:8080/"
        },
        "id": "jbuy2vsMcinc",
        "outputId": "6894096b-c43d-4609-b968-717f4f355f0e"
      },
      "execution_count": null,
      "outputs": [
        {
          "output_type": "stream",
          "name": "stdout",
          "text": [
            "\n",
            "Types des colonnes :\n",
            "Id                 int64\n",
            "MSSubClass         int64\n",
            "MSZoning          object\n",
            "LotFrontage      float64\n",
            "LotArea            int64\n",
            "                  ...   \n",
            "MoSold             int64\n",
            "YrSold             int64\n",
            "SaleType          object\n",
            "SaleCondition     object\n",
            "SalePrice          int64\n",
            "Length: 81, dtype: object\n"
          ]
        }
      ]
    },
    {
      "cell_type": "markdown",
      "source": [
        "Objectif : Explorer et comprendre le dataset en obtenant un aperçu général, des informations descriptives, et en identifiant les types de variables ainsi que les valeurs manquantes."
      ],
      "metadata": {
        "id": "ey7sxIHKM7PR"
      }
    },
    {
      "cell_type": "code",
      "source": [
        "# 2. Prétraitement des données\n",
        "# Gestion des valeurs manquantes\n",
        "print(\"\\nImputation des valeurs manquantes :\")\n",
        "num_cols = df.select_dtypes(include=['int64', 'float64']).columns\n",
        "cat_cols = df.select_dtypes(include=['object']).columns\n",
        "\n",
        "# Imputation des colonnes numériques avec la moyenne\n",
        "num_imputer = SimpleImputer(strategy='mean')\n",
        "df[num_cols] = num_imputer.fit_transform(df[num_cols])\n",
        "\n"
      ],
      "metadata": {
        "colab": {
          "base_uri": "https://localhost:8080/"
        },
        "id": "dHmBmn-sctr8",
        "outputId": "24120084-a9be-437e-8534-ed8ea028f1e0"
      },
      "execution_count": null,
      "outputs": [
        {
          "output_type": "stream",
          "name": "stdout",
          "text": [
            "\n",
            "Imputation des valeurs manquantes :\n"
          ]
        }
      ]
    },
    {
      "cell_type": "markdown",
      "source": [
        "Objectif : Remplacer les valeurs manquantes dans les colonnes numériques par la moyenne de chaque colonne."
      ],
      "metadata": {
        "id": "I2WMqJzw4d_U"
      }
    },
    {
      "cell_type": "code",
      "source": [
        "\n",
        "# Imputation des colonnes catégoriques avec la valeur la plus fréquente\n",
        "cat_imputer = SimpleImputer(strategy='most_frequent')\n",
        "df[cat_cols] = cat_imputer.fit_transform(df[cat_cols])\n",
        "\n",
        "print(\"\\nValeurs manquantes après imputation :\")\n",
        "print(df.isnull().sum())\n"
      ],
      "metadata": {
        "colab": {
          "base_uri": "https://localhost:8080/"
        },
        "id": "_xhwXygudP7b",
        "outputId": "3b0ab8b6-d28e-4e3e-839f-ad228e4937bc"
      },
      "execution_count": null,
      "outputs": [
        {
          "output_type": "stream",
          "name": "stdout",
          "text": [
            "\n",
            "Valeurs manquantes après imputation :\n",
            "Id               0\n",
            "MSSubClass       0\n",
            "MSZoning         0\n",
            "LotFrontage      0\n",
            "LotArea          0\n",
            "                ..\n",
            "MoSold           0\n",
            "YrSold           0\n",
            "SaleType         0\n",
            "SaleCondition    0\n",
            "SalePrice        0\n",
            "Length: 81, dtype: int64\n"
          ]
        }
      ]
    },
    {
      "cell_type": "markdown",
      "source": [
        "SimpleImputer : Gère les valeurs manquantes en utilisant une stratégie spécifique :\n",
        "Moyenne pour les variables numériques.\n",
        "Valeur la plus fréquente (mode) pour les variables catégoriques."
      ],
      "metadata": {
        "id": "3EgrpbblQ0k6"
      }
    },
    {
      "cell_type": "markdown",
      "source": [
        "Objectif : Remplacer les valeurs manquantes dans les colonnes catégoriques par la valeur la plus fréquente de chaque colonne.\n",
        "Objectif : Vérifier qu'il n'y a plus de valeurs manquantes après l'imputation."
      ],
      "metadata": {
        "id": "UeZyQzve4jYi"
      }
    },
    {
      "cell_type": "markdown",
      "source": [
        "Objectif : Prétraiter les données en imputant les valeurs manquantes pour les colonnes numériques et catégoriques."
      ],
      "metadata": {
        "id": "cs70aIeFNENR"
      }
    },
    {
      "cell_type": "code",
      "source": [
        "\n",
        "# Transformation des variables catégoriques\n",
        "print(\"\\nTransformation des variables catégoriques :\")\n",
        "encoder = LabelEncoder()\n",
        "for col in cat_cols:\n",
        "    df[col] = encoder.fit_transform(df[col])\n",
        "\n",
        "print(\"\\nAperçu des données après transformation :\")\n",
        "print(df.head())\n"
      ],
      "metadata": {
        "colab": {
          "base_uri": "https://localhost:8080/"
        },
        "id": "0CbaKR8ndXbs",
        "outputId": "b3a71b8d-5af9-430e-cbaa-5c08dff03e70"
      },
      "execution_count": null,
      "outputs": [
        {
          "output_type": "stream",
          "name": "stdout",
          "text": [
            "\n",
            "Transformation des variables catégoriques :\n",
            "\n",
            "Aperçu des données après transformation :\n",
            "    Id  MSSubClass  MSZoning  LotFrontage  LotArea  Street  Alley  LotShape  \\\n",
            "0  1.0        60.0         3         65.0   8450.0       1      0         3   \n",
            "1  2.0        20.0         3         80.0   9600.0       1      0         3   \n",
            "2  3.0        60.0         3         68.0  11250.0       1      0         0   \n",
            "3  4.0        70.0         3         60.0   9550.0       1      0         0   \n",
            "4  5.0        60.0         3         84.0  14260.0       1      0         0   \n",
            "\n",
            "   LandContour  Utilities  ...  PoolArea  PoolQC  Fence  MiscFeature  MiscVal  \\\n",
            "0            3          0  ...       0.0       2      2            2      0.0   \n",
            "1            3          0  ...       0.0       2      2            2      0.0   \n",
            "2            3          0  ...       0.0       2      2            2      0.0   \n",
            "3            3          0  ...       0.0       2      2            2      0.0   \n",
            "4            3          0  ...       0.0       2      2            2      0.0   \n",
            "\n",
            "   MoSold  YrSold  SaleType  SaleCondition  SalePrice  \n",
            "0     2.0  2008.0         8              4   208500.0  \n",
            "1     5.0  2007.0         8              4   181500.0  \n",
            "2     9.0  2008.0         8              4   223500.0  \n",
            "3     2.0  2006.0         8              0   140000.0  \n",
            "4    12.0  2008.0         8              4   250000.0  \n",
            "\n",
            "[5 rows x 81 columns]\n"
          ]
        }
      ]
    },
    {
      "cell_type": "markdown",
      "source": [
        "LabelEncoder : Attribue un numéro unique à chaque catégorie, transformant ainsi les variables qualitatives.\n",
        "\n",
        "Objectif : Transformer les variables catégoriques en variables numériques à l'aide d'un encodeur.\n",
        "\n",
        "Objectif : Afficher les premières lignes du dataset après transformation pour vérifier que les variables catégoriques ont été correctement transformées."
      ],
      "metadata": {
        "id": "tf0N5nauNKZt"
      }
    },
    {
      "cell_type": "code",
      "source": [
        "\n",
        "# Normalisation des données\n",
        "print(\"\\nNormalisation des variables numériques :\")\n",
        "scaler = StandardScaler()\n",
        "df[num_cols] = scaler.fit_transform(df[num_cols])\n",
        "\n",
        "print(\"\\nAperçu des données après normalisation :\")\n",
        "print(df.head())\n"
      ],
      "metadata": {
        "colab": {
          "base_uri": "https://localhost:8080/"
        },
        "id": "GwHJkT9Qde98",
        "outputId": "62d47b52-02f6-4607-ff9e-f48d52f5245c"
      },
      "execution_count": null,
      "outputs": [
        {
          "output_type": "stream",
          "name": "stdout",
          "text": [
            "\n",
            "Normalisation des variables numériques :\n",
            "\n",
            "Aperçu des données après normalisation :\n",
            "         Id  MSSubClass  MSZoning  LotFrontage   LotArea  Street  Alley  \\\n",
            "0 -1.730865    0.073375         3    -0.229372 -0.207142       1      0   \n",
            "1 -1.728492   -0.872563         3     0.451936 -0.091886       1      0   \n",
            "2 -1.726120    0.073375         3    -0.093110  0.073480       1      0   \n",
            "3 -1.723747    0.309859         3    -0.456474 -0.096897       1      0   \n",
            "4 -1.721374    0.073375         3     0.633618  0.375148       1      0   \n",
            "\n",
            "   LotShape  LandContour  Utilities  ...  PoolArea  PoolQC  Fence  \\\n",
            "0         3            3          0  ... -0.068692       2      2   \n",
            "1         3            3          0  ... -0.068692       2      2   \n",
            "2         0            3          0  ... -0.068692       2      2   \n",
            "3         0            3          0  ... -0.068692       2      2   \n",
            "4         0            3          0  ... -0.068692       2      2   \n",
            "\n",
            "   MiscFeature   MiscVal    MoSold    YrSold  SaleType  SaleCondition  \\\n",
            "0            2 -0.087688 -1.599111  0.138777         8              4   \n",
            "1            2 -0.087688 -0.489110 -0.614439         8              4   \n",
            "2            2 -0.087688  0.990891  0.138777         8              4   \n",
            "3            2 -0.087688 -1.599111 -1.367655         8              0   \n",
            "4            2 -0.087688  2.100892  0.138777         8              4   \n",
            "\n",
            "   SalePrice  \n",
            "0   0.347273  \n",
            "1   0.007288  \n",
            "2   0.536154  \n",
            "3  -0.515281  \n",
            "4   0.869843  \n",
            "\n",
            "[5 rows x 81 columns]\n"
          ]
        }
      ]
    },
    {
      "cell_type": "markdown",
      "source": [
        "Objectif : Normaliser les variables numériques pour les rendre comparables entre elles.\n",
        "\n",
        "StandardScaler : Utile pour homogénéiser l'échelle des variables numériques."
      ],
      "metadata": {
        "id": "Gw3eS07uNSqY"
      }
    },
    {
      "cell_type": "code",
      "source": [
        "# Sélection des variables explicatives et de la variable cible\n",
        "print(\"\\nSélection des variables :\")\n",
        "X = df.drop('SalePrice', axis=1)  # Remplacer 'SalePrice' par la colonne cible de votre dataset\n",
        "y = df['SalePrice']\n",
        "\n"
      ],
      "metadata": {
        "colab": {
          "base_uri": "https://localhost:8080/"
        },
        "id": "3XD2jdrOdjzN",
        "outputId": "203b9948-1f9d-47f1-bb9e-ee5aa201002a"
      },
      "execution_count": null,
      "outputs": [
        {
          "output_type": "stream",
          "name": "stdout",
          "text": [
            "\n",
            "Sélection des variables :\n"
          ]
        }
      ]
    },
    {
      "cell_type": "code",
      "source": [
        "# Séparer les données en ensembles d'entraînement et de test\n",
        "X_train, X_test, y_train, y_test = train_test_split(X, y, test_size=0.2, random_state=42)\n",
        "\n"
      ],
      "metadata": {
        "id": "WNoPTUE7fJqF"
      },
      "execution_count": null,
      "outputs": []
    },
    {
      "cell_type": "markdown",
      "source": [
        "train_test_split : Divise les données en deux parties :\n",
        "80% pour l'entraînement.\n",
        "20% pour le test."
      ],
      "metadata": {
        "id": "G1HvtOdnQRg6"
      }
    },
    {
      "cell_type": "markdown",
      "source": [
        "Objectif : Sélectionner les variables explicatives et la variable cible, puis séparer les données en ensembles d'entraînement et de test."
      ],
      "metadata": {
        "id": "AF57QqEsPmGF"
      }
    },
    {
      "cell_type": "code",
      "source": [
        "from sklearn.model_selection import train_test_split\n",
        "\n",
        "# Suppose que 'df' est votre dataframe et 'SalePrice' est votre variable cible\n",
        "X = df.drop('SalePrice', axis=1)\n",
        "y = df['SalePrice']\n",
        "\n",
        "# Séparer les données en ensembles d'entraînement et de test\n",
        "X_train, X_test, y_train, y_test = train_test_split(X, y, test_size=0.2, random_state=42)\n",
        "from sklearn.linear_model import LinearRegression\n",
        "\n",
        "# Créer et entraîner le modèle\n",
        "model = LinearRegression()\n",
        "model.fit(X_train, y_train)\n",
        "\n",
        "# Prédire les résultats de l'ensemble de test\n",
        "y_pred = model.predict(X_test)\n",
        "import seaborn as sns\n",
        "import matplotlib.pyplot as plt\n",
        "\n",
        "# Tracer les valeurs réelles et les valeurs prédites\n",
        "plt.figure(figsize=(10, 6))\n",
        "sns.regplot(x=X_test.iloc[:, 0], y=y_test, color='blue', label='True values')\n",
        "sns.regplot(x=X_test.iloc[:, 0], y=y_pred, color='red', label='Predicted values')\n",
        "plt.legend()\n",
        "plt.show()"
      ],
      "metadata": {
        "colab": {
          "base_uri": "https://localhost:8080/",
          "height": 540
        },
        "id": "dR9Y79wzxXF_",
        "outputId": "5c05e024-1e31-4998-873c-b6637cba78c3"
      },
      "execution_count": null,
      "outputs": [
        {
          "output_type": "display_data",
          "data": {
            "text/plain": [
              "<Figure size 1000x600 with 1 Axes>"
            ],
            "image/png": "[encoded data removed]"
          },
          "metadata": {}
        }
      ]
    },
    {
      "cell_type": "markdown",
      "source": [
        "sns.regplot : Trace une régression linéaire et montre la relation entre les valeurs réelles et prédites.\n",
        "\n",
        "LinearRegression : Réalise une régression linéaire classique."
      ],
      "metadata": {
        "id": "HeqJjt-qPdeQ"
      }
    },
    {
      "cell_type": "markdown",
      "source": [
        "Objectif : Créer et entraîner un modèle de régression linéaire, puis prédire les résultats de l'ensemble de test."
      ],
      "metadata": {
        "id": "RodDWBgkMiBo"
      }
    },
    {
      "cell_type": "code",
      "source": [
        "\n",
        "# 3. Sélection du modèle de ML\n",
        "models = {\n",
        "    \"Régression linéaire\": LinearRegression(),\n",
        "    \"Random Forest\": RandomForestRegressor(random_state=42),\n",
        "    \"Support Vector Regression (SVR)\": SVR()\n",
        "}\n",
        "\n"
      ],
      "metadata": {
        "id": "070SVPpEfSGW"
      },
      "execution_count": null,
      "outputs": []
    },
    {
      "cell_type": "markdown",
      "source": [
        "Objectif : Définir les modèles de machine learning à utiliser pour la prédiction.\n",
        "Objectif : Définir un dictionnaire contenant les modèles de machine learning à utiliser pour la prédiction."
      ],
      "metadata": {
        "id": "OlvqVNcOMQ9Z"
      }
    },
    {
      "cell_type": "code",
      "source": [
        "# 4. Evaluation des modèles de ML\n",
        "results = {}\n",
        "for name, model in models.items():\n",
        "    print(f\"\\nModèle : {name}\")\n",
        "    model.fit(X_train, y_train)\n",
        "    y_pred = model.predict(X_test)\n",
        "\n",
        "    mse = mean_squared_error(y_test, y_pred)\n",
        "    r2 = r2_score(y_test, y_pred)\n",
        "\n",
        "    print(f\"MSE : {mse:.2f}\")\n",
        "    print(f\"R² : {r2:.2f}\")\n",
        "    results[name] = (mse, r2)\n",
        "\n"
      ],
      "metadata": {
        "colab": {
          "base_uri": "https://localhost:8080/"
        },
        "id": "mvjukO9YfZHb",
        "outputId": "ea6a5c48-1667-4b72-fb02-e275a00b8db9"
      },
      "execution_count": null,
      "outputs": [
        {
          "output_type": "stream",
          "name": "stdout",
          "text": [
            "\n",
            "Modèle : Régression linéaire\n",
            "MSE : 0.20\n",
            "R² : 0.84\n",
            "\n",
            "Modèle : Random Forest\n",
            "MSE : 0.13\n",
            "R² : 0.89\n",
            "\n",
            "Modèle : Support Vector Regression (SVR)\n",
            "MSE : 0.17\n",
            "R² : 0.86\n"
          ]
        }
      ]
    },
    {
      "cell_type": "markdown",
      "source": [
        "SVR:\n"
      ],
      "metadata": {
        "id": "csOLoVJ4pK-s"
      }
    },
    {
      "cell_type": "code",
      "source": [
        "\n",
        "    # Visualisation des résultats\n",
        "    plt.figure(figsize=(8, 5))\n",
        "    plt.scatter(y_test, y_pred, alpha=0.6, color='blue')\n",
        "    plt.plot([min(y_test), max(y_test)], [min(y_test), max(y_test)], color='red', linewidth=2, label='Idéal')\n",
        "    plt.xlabel(\"Valeurs réelles\")\n",
        "    plt.ylabel(\"Valeurs prédites\")\n",
        "    plt.title(f\"Résultats pour {name}\")\n",
        "    plt.legend()\n",
        "    plt.grid()\n",
        "    plt.show()\n"
      ],
      "metadata": {
        "colab": {
          "base_uri": "https://localhost:8080/",
          "height": 488
        },
        "id": "vxw9Ej7ahyzb",
        "outputId": "49bdc9ef-b837-463e-e522-25f9985eaf9c"
      },
      "execution_count": null,
      "outputs": [
        {
          "output_type": "display_data",
          "data": {
            "text/plain": [
              "<Figure size 800x500 with 1 Axes>"
            ],
            "image/png": "[encoded data removed]"
          },
          "metadata": {}
        }
      ]
    },
    {
      "cell_type": "markdown",
      "source": [
        "Objectif : Évaluer les performances de chaque modèle en calculant le MSE (Erreur Quadratique Moyenne) et le R², puis visualiser les résultats obtenus.\n",
        "\n",
        "\n",
        "MSE (Erreur quadratique moyenne) : Mesure la précision des prédictions (valeurs plus faibles = meilleur modèle).\n",
        "R² : Indique la proportion de la variance expliquée par le modèle."
      ],
      "metadata": {
        "id": "HBsxMXduMJ28"
      }
    },
    {
      "cell_type": "code",
      "source": [
        "print(\"\\nRésumé des performances :\")\n",
        "for name, (mse, r2) in results.items():\n",
        "    print(f\"{name} -> MSE: {mse:.2f}, R²: {r2:.2f}\")"
      ],
      "metadata": {
        "colab": {
          "base_uri": "https://localhost:8080/"
        },
        "id": "HPNfMN1OL5tf",
        "outputId": "cee5558f-d09c-4ad6-b867-0783ea4192cf"
      },
      "execution_count": null,
      "outputs": [
        {
          "output_type": "stream",
          "name": "stdout",
          "text": [
            "\n",
            "Résumé des performances :\n",
            "Régression linéaire -> MSE: 0.20, R²: 0.84\n",
            "Random Forest -> MSE: 0.13, R²: 0.89\n",
            "Support Vector Regression (SVR) -> MSE: 0.17, R²: 0.86\n"
          ]
        }
      ]
    },
    {
      "cell_type": "markdown",
      "source": [
        "Les valeurs de MSE indiquent que l'arbre de décision offre la meilleure performance parmi les trois modèles, car elle est la plus basse. Le R² plus proche de 1 signifie une meilleure qualité de la prédiction. L'arbre de décision offre également une très bonne performance."
      ],
      "metadata": {
        "id": "G-UzWHjDQE0y"
      }
    },
    {
      "cell_type": "markdown",
      "source": [
        "Objectif : Afficher un résumé des performances des différents modèles de machine learning."
      ],
      "metadata": {
        "id": "nDXUBDR9MDkK"
      }
    }
  ]
}